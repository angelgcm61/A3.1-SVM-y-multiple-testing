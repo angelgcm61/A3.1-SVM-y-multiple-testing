{
  "nbformat": 4,
  "nbformat_minor": 0,
  "metadata": {
    "colab": {
      "provenance": []
    },
    "kernelspec": {
      "name": "python3",
      "display_name": "Python 3"
    },
    "language_info": {
      "name": "python"
    }
  },
  "cells": [
    {
      "cell_type": "markdown",
      "source": [
        "Se realizara el analisis de cómo ciertos genes pueden ayudar a diferenciar entre diferentes clases o grupos dentro de un conjunto de datos.\n",
        "\n",
        "Para eso importaremos nuestra base de datos, que consiste de\n",
        "83 muestras y 2308 variables y La variable de salida cuenta con valores numéricos del 1 al 4 que corresponden a distintos tipos de cáncer. A su vez revisaremos si esta base de datos tiene algun hueco que llenar. Por ultimo sacaremos las variables con más diferencia de promedios entre las clases 2 y 4 para todos los genes, e imprimiremos los 10 genes con la mayor diferencia de medias."
      ],
      "metadata": {
        "id": "X2MEspitLEj6"
      }
    },
    {
      "cell_type": "code",
      "execution_count": 77,
      "metadata": {
        "colab": {
          "base_uri": "https://localhost:8080/"
        },
        "id": "HFpvV5b_6q81",
        "outputId": "b03dc2fa-c077-4716-ae90-d504e737a040"
      },
      "outputs": [
        {
          "output_type": "stream",
          "name": "stdout",
          "text": [
            "Cantidad de huecos:\n",
            " X1       0\n",
            "X2       0\n",
            "X3       0\n",
            "X4       0\n",
            "X5       0\n",
            "        ..\n",
            "X2305    0\n",
            "X2306    0\n",
            "X2307    0\n",
            "X2308    0\n",
            "y        0\n",
            "Length: 2309, dtype: int64\n",
            "Top 10 variables mas importantes:\n",
            "          mean_2    mean_4  diff_2_minus_4\n",
            "X187  -1.487488  1.835663       -3.323151\n",
            "X509  -0.707556  2.198982       -2.906537\n",
            "X2046 -1.711089  0.713426       -2.424515\n",
            "X2050 -2.237496  0.164287       -2.401783\n",
            "X129  -1.759748  0.405437       -2.165185\n",
            "X1645  0.932217 -1.133242        2.065460\n",
            "X1319  0.464020 -1.581922        2.045941\n",
            "X1955 -0.912812  1.124528       -2.037340\n",
            "X1003 -1.807854  0.203483       -2.011337\n",
            "X246   1.161029 -0.676801        1.837830\n"
          ]
        }
      ],
      "source": [
        "import pandas as pd\n",
        "import numpy as np\n",
        "\n",
        "df=pd.read_csv(\"A3.1 Khan.csv\")\n",
        "print(\"Cantidad de huecos:\\n\",df.isnull().sum())\n",
        "X_genes = df.columns.drop('y')\n",
        "\n",
        "m2 = df.loc[df[\"y\"] == 2, X_genes].mean()\n",
        "m4 = df.loc[df[\"y\"] == 4, X_genes].mean()\n",
        "res = pd.DataFrame({\"mean_2\": m2, \"mean_4\": m4})\n",
        "res[\"diff_2_minus_4\"] = res[\"mean_2\"] - res[\"mean_4\"]\n",
        "top10 = res.reindex(res[\"diff_2_minus_4\"].abs().sort_values(ascending=False).head(10).index)\n",
        "print(\"Top 10 variables mas importantes:\\n\", top10)\n",
        "\n"
      ]
    },
    {
      "cell_type": "markdown",
      "source": [
        "Como podemos observar no se observar ningun hueco en las viarbles que poseemos asi que podemos proseguir y obtener la diferenica. De estas variuables al notar sus diferencias, podemos inferer que tienen un rol importante a la hora de hacer la distnicion entre las clases, haciendo posible que se pueda identificar de manera mas solida algun dato en especifico.\n",
        "Tambien puede sugerir que pueden ser utilizados en un análisis estadístico formal, como una prueba t o ANOVA para verificar si esas diferencias son estadísticamente significativas.\n",
        "\n",
        "Ahora relaizarmos un calculo como ya mencionamos del estadistico t en conjunto del p-value, todo esto para comparar las medias de todos los genes que contamos en la clase 2 y 4.\n",
        "\n",
        "Ahora relizaremos tres diferentes metodologías las cuales seran\n",
        "* Bonferroni,\n",
        "* Holm\n",
        "* Benjamini-Hochberg\n",
        "\n",
        "Todo esto gracias a la funcion ttest_ind y multipletest, haciendo mas facil la obtencion de estos datos y ver cuales son todas las vairables más significativas para estos estudios con un alpha de 0.5."
      ],
      "metadata": {
        "id": "-xcqorCiDMAY"
      }
    },
    {
      "cell_type": "code",
      "source": [
        "from scipy.stats import ttest_ind\n",
        "from statsmodels.stats.multitest import multipletests\n",
        "\n",
        "\n",
        "g2 = df.loc[df[\"y\"] == 2, X_genes]\n",
        "g4 = df.loc[df[\"y\"] == 4, X_genes]\n",
        "\n",
        "t_vals, p_vals = ttest_ind(g2.to_numpy(), g4.to_numpy(), axis=0, equal_var=False)\n",
        "\n",
        "\n",
        "tests = pd.DataFrame({\"gene\": X_genes, \"t_stat\": t_vals, \"p_value\": p_vals}).set_index(\"gene\")\n",
        "\n",
        "prueba_bonf, p_bonf, _, _ = multipletests(tests[\"p_value\"], alpha=0.05, method=\"bonferroni\")\n",
        "prueba_holm, p_holm, _, _ = multipletests(tests[\"p_value\"], alpha=0.05, method=\"holm\")\n",
        "prueba_bh,   p_bh,   _, _ = multipletests(tests[\"p_value\"], alpha=0.05, method=\"fdr_bh\")\n",
        "\n",
        "tests[\"p_bonf\"] = p_bonf; tests[\"sig_bonf\"] = prueba_bonf\n",
        "tests[\"p_holm\"] = p_holm; tests[\"sig_holm\"] = prueba_holm\n",
        "tests[\"p_bh\"]   = p_bh;   tests[\"sig_bh\"]   = prueba_bh\n",
        "\n",
        "\n",
        "significative_bonf = tests.index[tests[\"sig_bonf\"]].tolist()\n",
        "significative_holm = tests.index[tests[\"sig_holm\"]].tolist()\n",
        "significative_bh   = tests.index[tests[\"sig_bh\"]].tolist()\n",
        "\n",
        "print(\"\\nSignificancia a α=0.05\")\n",
        "print(\"Bonferroni:\", len(significative_bonf) ,\"genes:\", significative_bonf)\n",
        "print(\"Holm:\", len(significative_holm) ,\"genes:\", significative_holm)\n",
        "print(\"BH (FDR):\",   len(significative_bh), \"genes:\", significative_bh)\n"
      ],
      "metadata": {
        "colab": {
          "base_uri": "https://localhost:8080/"
        },
        "id": "_XjmvEeqDK3V",
        "outputId": "bc6185dc-8a99-4836-b899-8b1ba6b1741b"
      },
      "execution_count": 78,
      "outputs": [
        {
          "output_type": "stream",
          "name": "stdout",
          "text": [
            "\n",
            "Significancia a α=0.05\n",
            "Bonferroni: 72 genes: ['X2', 'X36', 'X67', 'X129', 'X174', 'X187', 'X188', 'X229', 'X246', 'X251', 'X338', 'X348', 'X368', 'X372', 'X373', 'X380', 'X430', 'X433', 'X509', 'X545', 'X554', 'X558', 'X566', 'X603', 'X655', 'X714', 'X762', 'X910', 'X951', 'X971', 'X1003', 'X1021', 'X1023', 'X1055', 'X1070', 'X1093', 'X1105', 'X1110', 'X1112', 'X1132', 'X1194', 'X1196', 'X1207', 'X1217', 'X1298', 'X1319', 'X1327', 'X1330', 'X1372', 'X1389', 'X1416', 'X1610', 'X1626', 'X1634', 'X1645', 'X1706', 'X1708', 'X1723', 'X1738', 'X1799', 'X1888', 'X1896', 'X1911', 'X1924', 'X1954', 'X1955', 'X1980', 'X2046', 'X2050', 'X2115', 'X2146', 'X2247']\n",
            "Holm: 72 genes: ['X2', 'X36', 'X67', 'X129', 'X174', 'X187', 'X188', 'X229', 'X246', 'X251', 'X338', 'X348', 'X368', 'X372', 'X373', 'X380', 'X430', 'X433', 'X509', 'X545', 'X554', 'X558', 'X566', 'X603', 'X655', 'X714', 'X762', 'X910', 'X951', 'X971', 'X1003', 'X1021', 'X1023', 'X1055', 'X1070', 'X1093', 'X1105', 'X1110', 'X1112', 'X1132', 'X1194', 'X1196', 'X1207', 'X1217', 'X1298', 'X1319', 'X1327', 'X1330', 'X1372', 'X1389', 'X1416', 'X1610', 'X1626', 'X1634', 'X1645', 'X1706', 'X1708', 'X1723', 'X1738', 'X1799', 'X1888', 'X1896', 'X1911', 'X1924', 'X1954', 'X1955', 'X1980', 'X2046', 'X2050', 'X2115', 'X2146', 'X2247']\n",
            "BH (FDR): 296 genes: ['X2', 'X3', 'X29', 'X36', 'X52', 'X67', 'X80', 'X89', 'X119', 'X129', 'X131', 'X139', 'X141', 'X146', 'X151', 'X153', 'X165', 'X166', 'X169', 'X174', 'X187', 'X188', 'X191', 'X214', 'X217', 'X229', 'X230', 'X244', 'X246', 'X251', 'X256', 'X258', 'X315', 'X323', 'X335', 'X336', 'X338', 'X340', 'X348', 'X365', 'X368', 'X372', 'X373', 'X378', 'X380', 'X384', 'X388', 'X390', 'X407', 'X409', 'X419', 'X426', 'X430', 'X433', 'X437', 'X443', 'X465', 'X469', 'X481', 'X482', 'X483', 'X500', 'X501', 'X503', 'X509', 'X518', 'X533', 'X534', 'X542', 'X545', 'X554', 'X558', 'X566', 'X598', 'X603', 'X604', 'X607', 'X636', 'X642', 'X650', 'X655', 'X696', 'X702', 'X714', 'X715', 'X733', 'X744', 'X746', 'X747', 'X753', 'X758', 'X760', 'X761', 'X762', 'X774', 'X779', 'X789', 'X795', 'X803', 'X808', 'X820', 'X828', 'X832', 'X851', 'X857', 'X867', 'X883', 'X891', 'X910', 'X941', 'X951', 'X964', 'X971', 'X973', 'X979', 'X982', 'X1003', 'X1012', 'X1020', 'X1021', 'X1022', 'X1023', 'X1030', 'X1037', 'X1039', 'X1046', 'X1055', 'X1063', 'X1070', 'X1074', 'X1089', 'X1090', 'X1093', 'X1100', 'X1105', 'X1110', 'X1112', 'X1113', 'X1125', 'X1132', 'X1151', 'X1155', 'X1158', 'X1160', 'X1164', 'X1187', 'X1194', 'X1196', 'X1201', 'X1203', 'X1204', 'X1206', 'X1207', 'X1217', 'X1220', 'X1225', 'X1227', 'X1228', 'X1238', 'X1252', 'X1254', 'X1258', 'X1263', 'X1283', 'X1286', 'X1292', 'X1298', 'X1301', 'X1319', 'X1325', 'X1327', 'X1330', 'X1331', 'X1345', 'X1353', 'X1372', 'X1389', 'X1416', 'X1464', 'X1489', 'X1493', 'X1496', 'X1497', 'X1498', 'X1517', 'X1518', 'X1525', 'X1536', 'X1574', 'X1597', 'X1606', 'X1610', 'X1613', 'X1626', 'X1634', 'X1643', 'X1644', 'X1645', 'X1646', 'X1655', 'X1670', 'X1671', 'X1673', 'X1677', 'X1691', 'X1697', 'X1706', 'X1708', 'X1714', 'X1723', 'X1727', 'X1729', 'X1734', 'X1738', 'X1771', 'X1772', 'X1775', 'X1778', 'X1799', 'X1821', 'X1822', 'X1831', 'X1850', 'X1853', 'X1854', 'X1855', 'X1857', 'X1867', 'X1870', 'X1878', 'X1882', 'X1888', 'X1896', 'X1901', 'X1906', 'X1909', 'X1910', 'X1911', 'X1914', 'X1917', 'X1920', 'X1924', 'X1929', 'X1931', 'X1937', 'X1942', 'X1945', 'X1954', 'X1955', 'X1967', 'X1979', 'X1980', 'X1991', 'X1994', 'X1995', 'X2000', 'X2020', 'X2039', 'X2046', 'X2047', 'X2049', 'X2050', 'X2060', 'X2080', 'X2081', 'X2083', 'X2086', 'X2088', 'X2093', 'X2096', 'X2099', 'X2105', 'X2114', 'X2115', 'X2117', 'X2120', 'X2146', 'X2148', 'X2149', 'X2159', 'X2172', 'X2181', 'X2199', 'X2227', 'X2230', 'X2235', 'X2247', 'X2248', 'X2253', 'X2262', 'X2275', 'X2278', 'X2295', 'X2300', 'X2301', 'X2303']\n"
          ]
        }
      ]
    },
    {
      "cell_type": "markdown",
      "source": [
        "Podemos observar que la metodologia Bonferroni y Holm, practicamente, proporcionaron las mismas variables significativas, pero para BH se optuvo muchas mas variables signficativas.\n",
        "\n",
        "Ahora, de manera similiar, pero ahora comprando las medias con las 4 clases que tenemos en nuestra variable \"y\". Para esto nos centraremos en la metodlogía de analisis de varianaza ANOVA. Para esto utilizaremos la función f_oneway de scipy.stats."
      ],
      "metadata": {
        "id": "1hCMtqn1DEEr"
      }
    },
    {
      "cell_type": "code",
      "source": [
        "from scipy.stats import f_oneway\n",
        "from statsmodels.stats.multitest import multipletests\n",
        "\n",
        "\n",
        "c = [df[df['y'] == k][X_genes] for k in [1, 2, 3, 4]]\n",
        "\n",
        "anova = pd.DataFrame({'gene': X_genes})\n",
        "anova['p'] = [\n",
        "    f_oneway(*[ci[g].dropna() for ci in c])[1] if all(ci[g].dropna().size > 0 for ci in c) else np.nan\n",
        "    for g in X_genes\n",
        "]\n",
        "anova = anova.set_index('gene').sort_values('p')\n",
        "\n",
        "# Codigo ayudado por ChatGPT /\n",
        "mask = anova['p'].notna()\n",
        "for method, colp, colsig in [('bonferroni','p_bonf','sig_bonf'),\n",
        "                             ('holm','p_holm','sig_holm'),\n",
        "                             ('fdr_bh','p_bh','sig_bh')]:\n",
        "    rej, p_adj, _, _ = multipletests(anova.loc[mask,'p'], alpha=0.05, method=method)\n",
        "    anova.loc[mask, colp] = p_adj\n",
        "    anova[colsig] = False\n",
        "    anova.loc[mask, colsig] = rej\n",
        "# /\n",
        "print(\"Top 10 por p (sin ajuste):\")\n",
        "print(anova[['p']].head(10))\n",
        "print(\"\\nSignificativos Bonferroni:\", int(anova['sig_bonf'].sum()))\n",
        "print(\"Significativos Holm:\",       int(anova['sig_holm'].sum()))\n",
        "print(\"Significativos BH (FDR):\",   int(anova['sig_bh'].sum()))\n"
      ],
      "metadata": {
        "colab": {
          "base_uri": "https://localhost:8080/"
        },
        "id": "4pNHqj4MFjq2",
        "outputId": "7a302d95-b160-4074-c384-d8cf0067ec3f"
      },
      "execution_count": 79,
      "outputs": [
        {
          "output_type": "stream",
          "name": "stdout",
          "text": [
            "Top 10 por p (sin ajuste):\n",
            "                  p\n",
            "gene               \n",
            "X1955  1.459035e-24\n",
            "X1389  1.772751e-24\n",
            "X1003  1.618988e-23\n",
            "X2050  4.733702e-22\n",
            "X246   6.633722e-22\n",
            "X742   2.195548e-21\n",
            "X1     3.839240e-20\n",
            "X2162  1.035143e-19\n",
            "X1954  2.182635e-19\n",
            "X1645  2.988392e-19\n",
            "\n",
            "Significativos Bonferroni: 404\n",
            "Significativos Holm: 412\n",
            "Significativos BH (FDR): 1162\n"
          ]
        }
      ]
    },
    {
      "cell_type": "markdown",
      "source": [
        "Como podemos observar hay mayor cantidad de variables significativas a comparacion a los metodos anteriores, esto no significa que un metodo sea mejor que otro a simple viste, puesto a que ahora utilizamos las 4 clases que nos proporciona nuestra varuable \"y\" asi que es normal tener más variables significativas.\n",
        "\n",
        "Por ultimo entrenaremos un modelo de SVM con\n",
        "un kernel lineal, con un kernel polinomial de orden 3, y con un kernel radial. Al obtener cada medoto de Kernel, imprimiremos su Accuracy, F1_score y su matriz de confusion para podere compararlas entre si y ver cual es mejor."
      ],
      "metadata": {
        "id": "kUiN4ci3Qpo1"
      }
    },
    {
      "cell_type": "code",
      "source": [
        "from sklearn.svm import SVC\n",
        "from sklearn.model_selection import train_test_split\n",
        "from sklearn.preprocessing import StandardScaler\n",
        "from sklearn.pipeline import make_pipeline\n",
        "from sklearn.metrics import accuracy_score, f1_score, confusion_matrix\n",
        "import matplotlib.pyplot as plt\n",
        "import seaborn as sns\n",
        "\n",
        "X = df.drop(columns=['y'])\n",
        "Y = df['y']\n",
        "X_train, X_test, y_train, y_test = train_test_split(X, Y, test_size=0.2, random_state=42, stratify=Y)\n",
        "\n",
        "# Codigo ayudado por ChatGPT /\n",
        "kernels = ['linear', 'poly', 'rbf']\n",
        "results = {}\n",
        "\n",
        "for kernel in kernels:\n",
        "    model = make_pipeline(StandardScaler(), SVC(kernel=kernel, random_state=42, C=1.0, gamma='scale'))\n",
        "    model.fit(X_train, y_train)\n",
        "    y_pred = model.predict(X_test)\n",
        "\n",
        "    accuracy = accuracy_score(y_test, y_pred)\n",
        "    f1 = f1_score(y_test, y_pred, average='macro')\n",
        "    conf_matrix = confusion_matrix(y_test, y_pred)\n",
        "\n",
        "    results[kernel] = {\n",
        "        'accuracy': accuracy,\n",
        "        'f1_score': f1,\n",
        "        'conf_matrix': conf_matrix,\n",
        "        'predictions': y_pred\n",
        "    }\n",
        "# /\n",
        "\n",
        "for kernel in results:\n",
        "    print(\"\\nResultados para el kernel\", kernel)\n",
        "    print(\"Accuracy:\", results[kernel]['accuracy'])\n",
        "    print(\"F1 Score:\",  results[kernel]['f1_score'])\n",
        "    print(\"Matris de confusion:\\n\",results[kernel]['conf_matrix'])\n",
        "\n",
        "plt.figure(figsize=(10,7))\n",
        "sns.heatmap(results['rbf']['conf_matrix'], annot=True, fmt='d', cmap='Blues', xticklabels=y.unique(), yticklabels=y.unique())\n",
        "plt.title('Confusion Matrix - Kernel RBF')\n",
        "plt.xlabel('Predicted')\n",
        "plt.ylabel('True')\n",
        "plt.show()"
      ],
      "metadata": {
        "id": "p-ikAymdDHIB",
        "colab": {
          "base_uri": "https://localhost:8080/",
          "height": 1000
        },
        "outputId": "29ad3c8c-6f68-46df-e01a-7f3c22eca97a"
      },
      "execution_count": 80,
      "outputs": [
        {
          "output_type": "stream",
          "name": "stdout",
          "text": [
            "\n",
            "Resultados para el kernel linear\n",
            "Accuracy: 1.0\n",
            "F1 Score: 1.0\n",
            "Matris de confusion:\n",
            " [[2 0 0 0]\n",
            " [0 6 0 0]\n",
            " [0 0 4 0]\n",
            " [0 0 0 5]]\n",
            "\n",
            "Resultados para el kernel poly\n",
            "Accuracy: 0.5294117647058824\n",
            "F1 Score: 0.5305555555555556\n",
            "Matris de confusion:\n",
            " [[1 1 0 0]\n",
            " [0 5 0 1]\n",
            " [0 3 1 0]\n",
            " [0 3 0 2]]\n",
            "\n",
            "Resultados para el kernel rbf\n",
            "Accuracy: 0.8823529411764706\n",
            "F1 Score: 0.899891774891775\n",
            "Matris de confusion:\n",
            " [[2 0 0 0]\n",
            " [0 5 0 1]\n",
            " [0 0 3 1]\n",
            " [0 0 0 5]]\n"
          ]
        },
        {
          "output_type": "display_data",
          "data": {
            "text/plain": [
              "<Figure size 1000x700 with 2 Axes>"
            ],
            "image/png": "[encoded data removed]"
          },
          "metadata": {}
        }
      ]
    },
    {
      "cell_type": "markdown",
      "source": [
        "Como podemos observar, hay algo raro en el Accuracy y F1 del Kernel Lineal, asi que para myaor presicion, obtendremos mas parametros de medicion y decidiremos cual es mejor para los resultados que buscamos."
      ],
      "metadata": {
        "id": "e4T3DjtoRl6n"
      }
    },
    {
      "cell_type": "code",
      "source": [
        "from sklearn.metrics import precision_score, recall_score\n",
        "metrics = {}\n",
        "for kernel in kernels:\n",
        "    y_pred = results[kernel]['predictions']\n",
        "\n",
        "    accuracy = accuracy_score(y_test, y_pred)\n",
        "    f1 = f1_score(y_test, y_pred, average='macro')\n",
        "    precision = precision_score(y_test, y_pred, average='macro')\n",
        "    recall = recall_score(y_test, y_pred, average='macro')\n",
        "    conf_matrix = confusion_matrix(y_test, y_pred)\n",
        "\n",
        "    metrics[kernel] = {\n",
        "        'accuracy': accuracy,\n",
        "        'f1_score': f1,\n",
        "        'precision': precision,\n",
        "        'recall': recall,\n",
        "        'conf_matrix': conf_matrix\n",
        "    }\n",
        "\n",
        "# Mostrar las métricas para each model\n",
        "for kernel in metrics:\n",
        "    print(\"\\nKernel\", kernel)\n",
        "    print(\"Accuracy:\", metrics[kernel]['accuracy'])\n",
        "    print(\"F1 Score:\", metrics[kernel]['f1_score'])\n",
        "    print(\"Precision:\", metrics[kernel]['precision'])\n",
        "    print(\"Recall:\", metrics[kernel]['recall'])\n",
        "    print(\"Matriz de Confusion:\\n\",metrics[kernel]['conf_matrix'])"
      ],
      "metadata": {
        "colab": {
          "base_uri": "https://localhost:8080/"
        },
        "id": "3pCe-WOqRmcf",
        "outputId": "4ec4fea4-01fa-4cad-8cf7-4a7a0f3ac71f"
      },
      "execution_count": 81,
      "outputs": [
        {
          "output_type": "stream",
          "name": "stdout",
          "text": [
            "\n",
            "Kernel linear\n",
            "Accuracy: 1.0\n",
            "F1 Score: 1.0\n",
            "Precision: 1.0\n",
            "Recall: 1.0\n",
            "Matriz de Confusion:\n",
            " [[2 0 0 0]\n",
            " [0 6 0 0]\n",
            " [0 0 4 0]\n",
            " [0 0 0 5]]\n",
            "\n",
            "Kernel poly\n",
            "Accuracy: 0.5294117647058824\n",
            "F1 Score: 0.5305555555555556\n",
            "Precision: 0.7708333333333334\n",
            "Recall: 0.49583333333333335\n",
            "Matriz de Confusion:\n",
            " [[1 1 0 0]\n",
            " [0 5 0 1]\n",
            " [0 3 1 0]\n",
            " [0 3 0 2]]\n",
            "\n",
            "Kernel rbf\n",
            "Accuracy: 0.8823529411764706\n",
            "F1 Score: 0.899891774891775\n",
            "Precision: 0.9285714285714286\n",
            "Recall: 0.8958333333333334\n",
            "Matriz de Confusion:\n",
            " [[2 0 0 0]\n",
            " [0 5 0 1]\n",
            " [0 0 3 1]\n",
            " [0 0 0 5]]\n"
          ]
        }
      ]
    },
    {
      "cell_type": "markdown",
      "source": [
        "Despues de ampliar las metricas y no solo accuracy y F1, vemos que aun asi salen muy parecidad. Analizando más a detalle, tenemos que el Kernel Lineal es de 1 para cualquiera de sus metricas, lo cual nos indica que siempre va a predecir de manera ante cualquier dato.\n",
        "\n",
        "Aunque esto sea un hecho, es extremadamente raro que pase, ya que siempre predecir de manera correcta y que ninguna de las otras metricas arroje un minimo error, significa 2 cosas, o que realmente nuestros datos si son posibles de predecir de manera extremadamente sencilla, o que estaban los datos demaciado desbalanzeados y demaciadas variables para la cantidad de datos, por lo que viendo que es demaciado extraño para tomar una desicion asegurada no lo escojeremos como el mejor metodo de kernel.\n",
        "\n",
        "En cambio viendo los demas parametros, el Kernel de RBF es el que tiene los mejores parametros asi que utilizaremos a este para usar en esta tarea."
      ],
      "metadata": {
        "id": "4CgLXHjSu-AH"
      }
    }
  ]
}